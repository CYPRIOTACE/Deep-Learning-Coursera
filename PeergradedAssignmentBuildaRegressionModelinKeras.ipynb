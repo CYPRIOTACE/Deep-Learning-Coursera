{
 "cells": [
  {
   "cell_type": "code",
   "execution_count": 105,
   "metadata": {},
   "outputs": [],
   "source": [
    "import pandas as pd\n",
    "import numpy as np"
   ]
  },
  {
   "cell_type": "code",
   "execution_count": 106,
   "metadata": {},
   "outputs": [
    {
     "data": {
      "text/html": [
       "<div>\n",
       "<style scoped>\n",
       "    .dataframe tbody tr th:only-of-type {\n",
       "        vertical-align: middle;\n",
       "    }\n",
       "\n",
       "    .dataframe tbody tr th {\n",
       "        vertical-align: top;\n",
       "    }\n",
       "\n",
       "    .dataframe thead th {\n",
       "        text-align: right;\n",
       "    }\n",
       "</style>\n",
       "<table border=\"1\" class=\"dataframe\">\n",
       "  <thead>\n",
       "    <tr style=\"text-align: right;\">\n",
       "      <th></th>\n",
       "      <th>Cement</th>\n",
       "      <th>Blast Furnace Slag</th>\n",
       "      <th>Fly Ash</th>\n",
       "      <th>Water</th>\n",
       "      <th>Superplasticizer</th>\n",
       "      <th>Coarse Aggregate</th>\n",
       "      <th>Fine Aggregate</th>\n",
       "      <th>Strength</th>\n",
       "    </tr>\n",
       "  </thead>\n",
       "  <tbody>\n",
       "    <tr>\n",
       "      <th>0</th>\n",
       "      <td>540.0</td>\n",
       "      <td>0.0</td>\n",
       "      <td>0.0</td>\n",
       "      <td>162.0</td>\n",
       "      <td>2.5</td>\n",
       "      <td>1040.0</td>\n",
       "      <td>676.0</td>\n",
       "      <td>79.99</td>\n",
       "    </tr>\n",
       "    <tr>\n",
       "      <th>1</th>\n",
       "      <td>540.0</td>\n",
       "      <td>0.0</td>\n",
       "      <td>0.0</td>\n",
       "      <td>162.0</td>\n",
       "      <td>2.5</td>\n",
       "      <td>1055.0</td>\n",
       "      <td>676.0</td>\n",
       "      <td>61.89</td>\n",
       "    </tr>\n",
       "    <tr>\n",
       "      <th>2</th>\n",
       "      <td>332.5</td>\n",
       "      <td>142.5</td>\n",
       "      <td>0.0</td>\n",
       "      <td>228.0</td>\n",
       "      <td>0.0</td>\n",
       "      <td>932.0</td>\n",
       "      <td>594.0</td>\n",
       "      <td>40.27</td>\n",
       "    </tr>\n",
       "    <tr>\n",
       "      <th>3</th>\n",
       "      <td>332.5</td>\n",
       "      <td>142.5</td>\n",
       "      <td>0.0</td>\n",
       "      <td>228.0</td>\n",
       "      <td>0.0</td>\n",
       "      <td>932.0</td>\n",
       "      <td>594.0</td>\n",
       "      <td>41.05</td>\n",
       "    </tr>\n",
       "    <tr>\n",
       "      <th>4</th>\n",
       "      <td>198.6</td>\n",
       "      <td>132.4</td>\n",
       "      <td>0.0</td>\n",
       "      <td>192.0</td>\n",
       "      <td>0.0</td>\n",
       "      <td>978.4</td>\n",
       "      <td>825.5</td>\n",
       "      <td>44.30</td>\n",
       "    </tr>\n",
       "  </tbody>\n",
       "</table>\n",
       "</div>"
      ],
      "text/plain": [
       "   Cement  Blast Furnace Slag  Fly Ash  Water  Superplasticizer  \\\n",
       "0   540.0                 0.0      0.0  162.0               2.5   \n",
       "1   540.0                 0.0      0.0  162.0               2.5   \n",
       "2   332.5               142.5      0.0  228.0               0.0   \n",
       "3   332.5               142.5      0.0  228.0               0.0   \n",
       "4   198.6               132.4      0.0  192.0               0.0   \n",
       "\n",
       "   Coarse Aggregate  Fine Aggregate  Strength  \n",
       "0            1040.0           676.0     79.99  \n",
       "1            1055.0           676.0     61.89  \n",
       "2             932.0           594.0     40.27  \n",
       "3             932.0           594.0     41.05  \n",
       "4             978.4           825.5     44.30  "
      ]
     },
     "execution_count": 106,
     "metadata": {},
     "output_type": "execute_result"
    }
   ],
   "source": [
    "concrete_data1 = pd.read_csv('https://cocl.us/concrete_data')\n",
    "concrete_data=concrete_data1.drop(['Age'], axis = 1) # all columns except Age \n",
    "concrete_data.head()"
   ]
  },
  {
   "cell_type": "code",
   "execution_count": 107,
   "metadata": {},
   "outputs": [
    {
     "data": {
      "text/plain": [
       "(1030, 8)"
      ]
     },
     "execution_count": 107,
     "metadata": {},
     "output_type": "execute_result"
    }
   ],
   "source": [
    "concrete_data.shape"
   ]
  },
  {
   "cell_type": "code",
   "execution_count": 108,
   "metadata": {},
   "outputs": [
    {
     "data": {
      "text/html": [
       "<div>\n",
       "<style scoped>\n",
       "    .dataframe tbody tr th:only-of-type {\n",
       "        vertical-align: middle;\n",
       "    }\n",
       "\n",
       "    .dataframe tbody tr th {\n",
       "        vertical-align: top;\n",
       "    }\n",
       "\n",
       "    .dataframe thead th {\n",
       "        text-align: right;\n",
       "    }\n",
       "</style>\n",
       "<table border=\"1\" class=\"dataframe\">\n",
       "  <thead>\n",
       "    <tr style=\"text-align: right;\">\n",
       "      <th></th>\n",
       "      <th>Cement</th>\n",
       "      <th>Blast Furnace Slag</th>\n",
       "      <th>Fly Ash</th>\n",
       "      <th>Water</th>\n",
       "      <th>Superplasticizer</th>\n",
       "      <th>Coarse Aggregate</th>\n",
       "      <th>Fine Aggregate</th>\n",
       "      <th>Strength</th>\n",
       "    </tr>\n",
       "  </thead>\n",
       "  <tbody>\n",
       "    <tr>\n",
       "      <th>count</th>\n",
       "      <td>1030.000000</td>\n",
       "      <td>1030.000000</td>\n",
       "      <td>1030.000000</td>\n",
       "      <td>1030.000000</td>\n",
       "      <td>1030.000000</td>\n",
       "      <td>1030.000000</td>\n",
       "      <td>1030.000000</td>\n",
       "      <td>1030.000000</td>\n",
       "    </tr>\n",
       "    <tr>\n",
       "      <th>mean</th>\n",
       "      <td>281.167864</td>\n",
       "      <td>73.895825</td>\n",
       "      <td>54.188350</td>\n",
       "      <td>181.567282</td>\n",
       "      <td>6.204660</td>\n",
       "      <td>972.918932</td>\n",
       "      <td>773.580485</td>\n",
       "      <td>35.817961</td>\n",
       "    </tr>\n",
       "    <tr>\n",
       "      <th>std</th>\n",
       "      <td>104.506364</td>\n",
       "      <td>86.279342</td>\n",
       "      <td>63.997004</td>\n",
       "      <td>21.354219</td>\n",
       "      <td>5.973841</td>\n",
       "      <td>77.753954</td>\n",
       "      <td>80.175980</td>\n",
       "      <td>16.705742</td>\n",
       "    </tr>\n",
       "    <tr>\n",
       "      <th>min</th>\n",
       "      <td>102.000000</td>\n",
       "      <td>0.000000</td>\n",
       "      <td>0.000000</td>\n",
       "      <td>121.800000</td>\n",
       "      <td>0.000000</td>\n",
       "      <td>801.000000</td>\n",
       "      <td>594.000000</td>\n",
       "      <td>2.330000</td>\n",
       "    </tr>\n",
       "    <tr>\n",
       "      <th>25%</th>\n",
       "      <td>192.375000</td>\n",
       "      <td>0.000000</td>\n",
       "      <td>0.000000</td>\n",
       "      <td>164.900000</td>\n",
       "      <td>0.000000</td>\n",
       "      <td>932.000000</td>\n",
       "      <td>730.950000</td>\n",
       "      <td>23.710000</td>\n",
       "    </tr>\n",
       "    <tr>\n",
       "      <th>50%</th>\n",
       "      <td>272.900000</td>\n",
       "      <td>22.000000</td>\n",
       "      <td>0.000000</td>\n",
       "      <td>185.000000</td>\n",
       "      <td>6.400000</td>\n",
       "      <td>968.000000</td>\n",
       "      <td>779.500000</td>\n",
       "      <td>34.445000</td>\n",
       "    </tr>\n",
       "    <tr>\n",
       "      <th>75%</th>\n",
       "      <td>350.000000</td>\n",
       "      <td>142.950000</td>\n",
       "      <td>118.300000</td>\n",
       "      <td>192.000000</td>\n",
       "      <td>10.200000</td>\n",
       "      <td>1029.400000</td>\n",
       "      <td>824.000000</td>\n",
       "      <td>46.135000</td>\n",
       "    </tr>\n",
       "    <tr>\n",
       "      <th>max</th>\n",
       "      <td>540.000000</td>\n",
       "      <td>359.400000</td>\n",
       "      <td>200.100000</td>\n",
       "      <td>247.000000</td>\n",
       "      <td>32.200000</td>\n",
       "      <td>1145.000000</td>\n",
       "      <td>992.600000</td>\n",
       "      <td>82.600000</td>\n",
       "    </tr>\n",
       "  </tbody>\n",
       "</table>\n",
       "</div>"
      ],
      "text/plain": [
       "            Cement  Blast Furnace Slag      Fly Ash        Water  \\\n",
       "count  1030.000000         1030.000000  1030.000000  1030.000000   \n",
       "mean    281.167864           73.895825    54.188350   181.567282   \n",
       "std     104.506364           86.279342    63.997004    21.354219   \n",
       "min     102.000000            0.000000     0.000000   121.800000   \n",
       "25%     192.375000            0.000000     0.000000   164.900000   \n",
       "50%     272.900000           22.000000     0.000000   185.000000   \n",
       "75%     350.000000          142.950000   118.300000   192.000000   \n",
       "max     540.000000          359.400000   200.100000   247.000000   \n",
       "\n",
       "       Superplasticizer  Coarse Aggregate  Fine Aggregate     Strength  \n",
       "count       1030.000000       1030.000000     1030.000000  1030.000000  \n",
       "mean           6.204660        972.918932      773.580485    35.817961  \n",
       "std            5.973841         77.753954       80.175980    16.705742  \n",
       "min            0.000000        801.000000      594.000000     2.330000  \n",
       "25%            0.000000        932.000000      730.950000    23.710000  \n",
       "50%            6.400000        968.000000      779.500000    34.445000  \n",
       "75%           10.200000       1029.400000      824.000000    46.135000  \n",
       "max           32.200000       1145.000000      992.600000    82.600000  "
      ]
     },
     "execution_count": 108,
     "metadata": {},
     "output_type": "execute_result"
    }
   ],
   "source": [
    "concrete_data.describe()"
   ]
  },
  {
   "cell_type": "code",
   "execution_count": 109,
   "metadata": {},
   "outputs": [
    {
     "data": {
      "text/plain": [
       "Cement                0\n",
       "Blast Furnace Slag    0\n",
       "Fly Ash               0\n",
       "Water                 0\n",
       "Superplasticizer      0\n",
       "Coarse Aggregate      0\n",
       "Fine Aggregate        0\n",
       "Strength              0\n",
       "dtype: int64"
      ]
     },
     "execution_count": 109,
     "metadata": {},
     "output_type": "execute_result"
    }
   ],
   "source": [
    "concrete_data.isnull().sum()"
   ]
  },
  {
   "cell_type": "code",
   "execution_count": 110,
   "metadata": {},
   "outputs": [],
   "source": [
    "predictors = concrete_data.drop(['Strength'], axis = 1) # all columns except Strength \n",
    "target = concrete_data['Strength'] # Strength column"
   ]
  },
  {
   "cell_type": "code",
   "execution_count": 111,
   "metadata": {},
   "outputs": [
    {
     "data": {
      "text/html": [
       "<div>\n",
       "<style scoped>\n",
       "    .dataframe tbody tr th:only-of-type {\n",
       "        vertical-align: middle;\n",
       "    }\n",
       "\n",
       "    .dataframe tbody tr th {\n",
       "        vertical-align: top;\n",
       "    }\n",
       "\n",
       "    .dataframe thead th {\n",
       "        text-align: right;\n",
       "    }\n",
       "</style>\n",
       "<table border=\"1\" class=\"dataframe\">\n",
       "  <thead>\n",
       "    <tr style=\"text-align: right;\">\n",
       "      <th></th>\n",
       "      <th>Cement</th>\n",
       "      <th>Blast Furnace Slag</th>\n",
       "      <th>Fly Ash</th>\n",
       "      <th>Water</th>\n",
       "      <th>Superplasticizer</th>\n",
       "      <th>Coarse Aggregate</th>\n",
       "      <th>Fine Aggregate</th>\n",
       "    </tr>\n",
       "  </thead>\n",
       "  <tbody>\n",
       "    <tr>\n",
       "      <th>0</th>\n",
       "      <td>540.0</td>\n",
       "      <td>0.0</td>\n",
       "      <td>0.0</td>\n",
       "      <td>162.0</td>\n",
       "      <td>2.5</td>\n",
       "      <td>1040.0</td>\n",
       "      <td>676.0</td>\n",
       "    </tr>\n",
       "    <tr>\n",
       "      <th>1</th>\n",
       "      <td>540.0</td>\n",
       "      <td>0.0</td>\n",
       "      <td>0.0</td>\n",
       "      <td>162.0</td>\n",
       "      <td>2.5</td>\n",
       "      <td>1055.0</td>\n",
       "      <td>676.0</td>\n",
       "    </tr>\n",
       "    <tr>\n",
       "      <th>2</th>\n",
       "      <td>332.5</td>\n",
       "      <td>142.5</td>\n",
       "      <td>0.0</td>\n",
       "      <td>228.0</td>\n",
       "      <td>0.0</td>\n",
       "      <td>932.0</td>\n",
       "      <td>594.0</td>\n",
       "    </tr>\n",
       "    <tr>\n",
       "      <th>3</th>\n",
       "      <td>332.5</td>\n",
       "      <td>142.5</td>\n",
       "      <td>0.0</td>\n",
       "      <td>228.0</td>\n",
       "      <td>0.0</td>\n",
       "      <td>932.0</td>\n",
       "      <td>594.0</td>\n",
       "    </tr>\n",
       "    <tr>\n",
       "      <th>4</th>\n",
       "      <td>198.6</td>\n",
       "      <td>132.4</td>\n",
       "      <td>0.0</td>\n",
       "      <td>192.0</td>\n",
       "      <td>0.0</td>\n",
       "      <td>978.4</td>\n",
       "      <td>825.5</td>\n",
       "    </tr>\n",
       "  </tbody>\n",
       "</table>\n",
       "</div>"
      ],
      "text/plain": [
       "   Cement  Blast Furnace Slag  Fly Ash  Water  Superplasticizer  \\\n",
       "0   540.0                 0.0      0.0  162.0               2.5   \n",
       "1   540.0                 0.0      0.0  162.0               2.5   \n",
       "2   332.5               142.5      0.0  228.0               0.0   \n",
       "3   332.5               142.5      0.0  228.0               0.0   \n",
       "4   198.6               132.4      0.0  192.0               0.0   \n",
       "\n",
       "   Coarse Aggregate  Fine Aggregate  \n",
       "0            1040.0           676.0  \n",
       "1            1055.0           676.0  \n",
       "2             932.0           594.0  \n",
       "3             932.0           594.0  \n",
       "4             978.4           825.5  "
      ]
     },
     "execution_count": 111,
     "metadata": {},
     "output_type": "execute_result"
    }
   ],
   "source": [
    "predictors.head()"
   ]
  },
  {
   "cell_type": "code",
   "execution_count": 112,
   "metadata": {},
   "outputs": [
    {
     "data": {
      "text/plain": [
       "0    79.99\n",
       "1    61.89\n",
       "2    40.27\n",
       "3    41.05\n",
       "4    44.30\n",
       "Name: Strength, dtype: float64"
      ]
     },
     "execution_count": 112,
     "metadata": {},
     "output_type": "execute_result"
    }
   ],
   "source": [
    "target.head()"
   ]
  },
  {
   "cell_type": "code",
   "execution_count": 113,
   "metadata": {},
   "outputs": [
    {
     "data": {
      "text/plain": [
       "7"
      ]
     },
     "execution_count": 113,
     "metadata": {},
     "output_type": "execute_result"
    }
   ],
   "source": [
    "n_cols = predictors_norm.shape[1] # number of predictors\n",
    "n_cols"
   ]
  },
  {
   "cell_type": "code",
   "execution_count": 114,
   "metadata": {},
   "outputs": [],
   "source": [
    "import keras\n",
    "from keras.models import Sequential\n",
    "from keras.layers import Dense\n",
    "from keras.utils import to_categorical"
   ]
  },
  {
   "cell_type": "code",
   "execution_count": 115,
   "metadata": {},
   "outputs": [],
   "source": [
    "from sklearn.model_selection import train_test_split"
   ]
  },
  {
   "cell_type": "markdown",
   "metadata": {},
   "source": [
    "#### Create a split of test and train dat\n",
    "1. Randomly split the data into a training and test sets by holding 30% of the data for testing. You can use the train_test_split helper function from Scikit-learn."
   ]
  },
  {
   "cell_type": "code",
   "execution_count": 116,
   "metadata": {},
   "outputs": [],
   "source": [
    "X_train, X_test, y_train, y_test = train_test_split(predictors, target, test_size=0.3, random_state=0)"
   ]
  },
  {
   "cell_type": "markdown",
   "metadata": {},
   "source": [
    "#### A. Build a baseline model (5 marks)\n",
    "\n",
    "Use the Keras library to build a neural network with the following:\n",
    "\n",
    "- One hidden layer of 10 nodes, and a ReLU activation function\n",
    "\n",
    "- Use the adam optimizer and the mean squared error as the loss function."
   ]
  },
  {
   "cell_type": "code",
   "execution_count": 117,
   "metadata": {},
   "outputs": [],
   "source": [
    "# define regression model\n",
    "def regression_model():\n",
    "    # create model\n",
    "    model = Sequential()\n",
    "    model.add(Dense(10, activation='relu', input_shape=(n_cols,)))\n",
    "    model.add(Dense(1))\n",
    "    \n",
    "    # compile model\n",
    "    model.compile(optimizer='adam', loss='mean_squared_error')\n",
    "    return model"
   ]
  },
  {
   "cell_type": "markdown",
   "metadata": {},
   "source": [
    "#### \n",
    "2. Train the model on the training data using 50 epochs.\n",
    "3. Evaluate the model on the test data and compute the mean squared error between the predicted concrete strength and the actual concrete strength. You can use the mean_squared_error function from Scikit-learn."
   ]
  },
  {
   "cell_type": "code",
   "execution_count": 118,
   "metadata": {},
   "outputs": [
    {
     "name": "stdout",
     "output_type": "stream",
     "text": [
      "Train on 721 samples, validate on 309 samples\n",
      "Epoch 1/50\n",
      " - 1s - loss: 23922.3100 - val_loss: 14026.2977\n",
      "Epoch 2/50\n",
      " - 0s - loss: 9091.9919 - val_loss: 4950.1786\n",
      "Epoch 3/50\n",
      " - 0s - loss: 3314.3070 - val_loss: 2132.0281\n",
      "Epoch 4/50\n",
      " - 0s - loss: 1809.0739 - val_loss: 1531.7027\n",
      "Epoch 5/50\n",
      " - 0s - loss: 1442.9493 - val_loss: 1300.7157\n",
      "Epoch 6/50\n",
      " - 0s - loss: 1251.0154 - val_loss: 1104.7746\n",
      "Epoch 7/50\n",
      " - 0s - loss: 1086.4038 - val_loss: 945.3070\n",
      "Epoch 8/50\n",
      " - 0s - loss: 953.5989 - val_loss: 821.4815\n",
      "Epoch 9/50\n",
      " - 0s - loss: 846.2276 - val_loss: 725.4325\n",
      "Epoch 10/50\n",
      " - 0s - loss: 762.7114 - val_loss: 644.5780\n",
      "Epoch 11/50\n",
      " - 0s - loss: 696.5642 - val_loss: 588.2746\n",
      "Epoch 12/50\n",
      " - 0s - loss: 646.6445 - val_loss: 547.4314\n",
      "Epoch 13/50\n",
      " - 0s - loss: 605.6298 - val_loss: 523.1589\n",
      "Epoch 14/50\n",
      " - 0s - loss: 578.6718 - val_loss: 500.3811\n",
      "Epoch 15/50\n",
      " - 0s - loss: 552.9731 - val_loss: 483.4866\n",
      "Epoch 16/50\n",
      " - 0s - loss: 530.7861 - val_loss: 469.3698\n",
      "Epoch 17/50\n",
      " - 0s - loss: 515.7744 - val_loss: 456.3333\n",
      "Epoch 18/50\n",
      " - 0s - loss: 500.8016 - val_loss: 446.9178\n",
      "Epoch 19/50\n",
      " - 0s - loss: 487.4051 - val_loss: 438.0283\n",
      "Epoch 20/50\n",
      " - 0s - loss: 475.8190 - val_loss: 428.2411\n",
      "Epoch 21/50\n",
      " - 0s - loss: 463.0354 - val_loss: 417.5661\n",
      "Epoch 22/50\n",
      " - 0s - loss: 452.7222 - val_loss: 409.8942\n",
      "Epoch 23/50\n",
      " - 0s - loss: 443.0672 - val_loss: 403.3146\n",
      "Epoch 24/50\n",
      " - 0s - loss: 435.2036 - val_loss: 394.9912\n",
      "Epoch 25/50\n",
      " - 0s - loss: 426.0412 - val_loss: 387.9706\n",
      "Epoch 26/50\n",
      " - 0s - loss: 418.1043 - val_loss: 381.2263\n",
      "Epoch 27/50\n",
      " - 0s - loss: 411.0376 - val_loss: 375.3924\n",
      "Epoch 28/50\n",
      " - 0s - loss: 403.3622 - val_loss: 369.8345\n",
      "Epoch 29/50\n",
      " - 0s - loss: 396.1650 - val_loss: 362.7506\n",
      "Epoch 30/50\n",
      " - 0s - loss: 389.6050 - val_loss: 357.2368\n",
      "Epoch 31/50\n",
      " - 0s - loss: 382.7339 - val_loss: 350.9811\n",
      "Epoch 32/50\n",
      " - 0s - loss: 376.5603 - val_loss: 346.4494\n",
      "Epoch 33/50\n",
      " - 0s - loss: 371.4477 - val_loss: 341.2493\n",
      "Epoch 34/50\n",
      " - 0s - loss: 365.5885 - val_loss: 337.8959\n",
      "Epoch 35/50\n",
      " - 0s - loss: 360.6053 - val_loss: 332.5663\n",
      "Epoch 36/50\n",
      " - 0s - loss: 355.9522 - val_loss: 328.2245\n",
      "Epoch 37/50\n",
      " - 0s - loss: 351.2594 - val_loss: 324.7614\n",
      "Epoch 38/50\n",
      " - 0s - loss: 345.8395 - val_loss: 319.5754\n",
      "Epoch 39/50\n",
      " - 0s - loss: 342.2055 - val_loss: 316.9587\n",
      "Epoch 40/50\n",
      " - 0s - loss: 338.7113 - val_loss: 313.5944\n",
      "Epoch 41/50\n",
      " - 0s - loss: 335.4269 - val_loss: 311.3642\n",
      "Epoch 42/50\n",
      " - 0s - loss: 331.7921 - val_loss: 307.6050\n",
      "Epoch 43/50\n",
      " - 0s - loss: 330.7998 - val_loss: 304.5590\n",
      "Epoch 44/50\n",
      " - 0s - loss: 325.4122 - val_loss: 303.3044\n",
      "Epoch 45/50\n",
      " - 0s - loss: 322.6819 - val_loss: 299.5801\n",
      "Epoch 46/50\n",
      " - 0s - loss: 320.4149 - val_loss: 296.0595\n",
      "Epoch 47/50\n",
      " - 0s - loss: 317.9285 - val_loss: 294.9605\n",
      "Epoch 48/50\n",
      " - 0s - loss: 314.0641 - val_loss: 291.4125\n",
      "Epoch 49/50\n",
      " - 0s - loss: 311.5508 - val_loss: 289.0683\n",
      "Epoch 50/50\n",
      " - 0s - loss: 308.8544 - val_loss: 287.0835\n"
     ]
    }
   ],
   "source": [
    "model = regression_model()\n",
    "history_callback =model.fit(X_train, y_train, validation_data=(X_test, y_test), epochs=50, verbose=2)\n",
    "val_loss_history = history_callback.history[\"val_loss\"]\n",
    "loss_history = history_callback.history[\"loss\"]"
   ]
  },
  {
   "cell_type": "code",
   "execution_count": 119,
   "metadata": {},
   "outputs": [
    {
     "data": {
      "text/plain": [
       "1222.3966361506405"
      ]
     },
     "execution_count": 119,
     "metadata": {},
     "output_type": "execute_result"
    }
   ],
   "source": [
    "import statistics\n",
    "statistics.mean(loss_history)"
   ]
  },
  {
   "cell_type": "code",
   "execution_count": 120,
   "metadata": {},
   "outputs": [
    {
     "data": {
      "text/plain": [
       "3524.9083530975304"
      ]
     },
     "execution_count": 120,
     "metadata": {},
     "output_type": "execute_result"
    }
   ],
   "source": [
    "statistics.stdev(loss_history)"
   ]
  },
  {
   "cell_type": "markdown",
   "metadata": {},
   "source": [
    "#### B. Normalize the data (5 marks)\n",
    "\n",
    "Repeat Part A but use a normalized version of the data. Recall that one way to normalize the data is by subtracting the mean from the individual predictors and dividing by the standard deviation.\n",
    "\n",
    "How does the mean of the mean squared errors compare to that from Step A?"
   ]
  },
  {
   "cell_type": "code",
   "execution_count": 122,
   "metadata": {},
   "outputs": [],
   "source": [
    "predictors_norm = (predictors - predictors.mean()) / predictors.std()\n",
    "predictors_norm.head()\n",
    "predictors_norm\n",
    "target_norm = (target - target.mean()) / target.std()"
   ]
  },
  {
   "cell_type": "code",
   "execution_count": 123,
   "metadata": {},
   "outputs": [],
   "source": [
    "X_train, X_test, y_train, y_test = train_test_split(predictors_norm, target_norm, test_size=0.3, random_state=0)"
   ]
  },
  {
   "cell_type": "code",
   "execution_count": 124,
   "metadata": {},
   "outputs": [
    {
     "name": "stdout",
     "output_type": "stream",
     "text": [
      "Train on 721 samples, validate on 309 samples\n",
      "Epoch 1/50\n",
      " - 1s - loss: 2.9073 - val_loss: 2.2963\n",
      "Epoch 2/50\n",
      " - 0s - loss: 2.3966 - val_loss: 1.9037\n",
      "Epoch 3/50\n",
      " - 0s - loss: 2.0013 - val_loss: 1.6275\n",
      "Epoch 4/50\n",
      " - 0s - loss: 1.7090 - val_loss: 1.4047\n",
      "Epoch 5/50\n",
      " - 0s - loss: 1.4802 - val_loss: 1.2329\n",
      "Epoch 6/50\n",
      " - 0s - loss: 1.3103 - val_loss: 1.0953\n",
      "Epoch 7/50\n",
      " - 0s - loss: 1.1723 - val_loss: 0.9947\n",
      "Epoch 8/50\n",
      " - 0s - loss: 1.0650 - val_loss: 0.9151\n",
      "Epoch 9/50\n",
      " - 0s - loss: 0.9808 - val_loss: 0.8445\n",
      "Epoch 10/50\n",
      " - 0s - loss: 0.9105 - val_loss: 0.7886\n",
      "Epoch 11/50\n",
      " - 0s - loss: 0.8524 - val_loss: 0.7447\n",
      "Epoch 12/50\n",
      " - 0s - loss: 0.8086 - val_loss: 0.7083\n",
      "Epoch 13/50\n",
      " - 0s - loss: 0.7714 - val_loss: 0.6802\n",
      "Epoch 14/50\n",
      " - 0s - loss: 0.7426 - val_loss: 0.6568\n",
      "Epoch 15/50\n",
      " - 0s - loss: 0.7184 - val_loss: 0.6346\n",
      "Epoch 16/50\n",
      " - 0s - loss: 0.6972 - val_loss: 0.6171\n",
      "Epoch 17/50\n",
      " - 0s - loss: 0.6787 - val_loss: 0.6032\n",
      "Epoch 18/50\n",
      " - 0s - loss: 0.6645 - val_loss: 0.5895\n",
      "Epoch 19/50\n",
      " - 0s - loss: 0.6514 - val_loss: 0.5786\n",
      "Epoch 20/50\n",
      " - 0s - loss: 0.6399 - val_loss: 0.5698\n",
      "Epoch 21/50\n",
      " - 0s - loss: 0.6305 - val_loss: 0.5614\n",
      "Epoch 22/50\n",
      " - 0s - loss: 0.6212 - val_loss: 0.5539\n",
      "Epoch 23/50\n",
      " - 0s - loss: 0.6136 - val_loss: 0.5471\n",
      "Epoch 24/50\n",
      " - 0s - loss: 0.6057 - val_loss: 0.5411\n",
      "Epoch 25/50\n",
      " - 0s - loss: 0.5986 - val_loss: 0.5342\n",
      "Epoch 26/50\n",
      " - 0s - loss: 0.5910 - val_loss: 0.5288\n",
      "Epoch 27/50\n",
      " - 0s - loss: 0.5848 - val_loss: 0.5238\n",
      "Epoch 28/50\n",
      " - 0s - loss: 0.5795 - val_loss: 0.5193\n",
      "Epoch 29/50\n",
      " - 0s - loss: 0.5735 - val_loss: 0.5160\n",
      "Epoch 30/50\n",
      " - 0s - loss: 0.5689 - val_loss: 0.5122\n",
      "Epoch 31/50\n",
      " - 0s - loss: 0.5645 - val_loss: 0.5088\n",
      "Epoch 32/50\n",
      " - 0s - loss: 0.5606 - val_loss: 0.5064\n",
      "Epoch 33/50\n",
      " - 0s - loss: 0.5571 - val_loss: 0.5038\n",
      "Epoch 34/50\n",
      " - 0s - loss: 0.5542 - val_loss: 0.5037\n",
      "Epoch 35/50\n",
      " - 0s - loss: 0.5501 - val_loss: 0.4997\n",
      "Epoch 36/50\n",
      " - 0s - loss: 0.5467 - val_loss: 0.4981\n",
      "Epoch 37/50\n",
      " - 0s - loss: 0.5443 - val_loss: 0.4967\n",
      "Epoch 38/50\n",
      " - 0s - loss: 0.5422 - val_loss: 0.4941\n",
      "Epoch 39/50\n",
      " - 0s - loss: 0.5392 - val_loss: 0.4938\n",
      "Epoch 40/50\n",
      " - 0s - loss: 0.5370 - val_loss: 0.4918\n",
      "Epoch 41/50\n",
      " - 0s - loss: 0.5346 - val_loss: 0.4908\n",
      "Epoch 42/50\n",
      " - 0s - loss: 0.5325 - val_loss: 0.4892\n",
      "Epoch 43/50\n",
      " - 0s - loss: 0.5315 - val_loss: 0.4887\n",
      "Epoch 44/50\n",
      " - 0s - loss: 0.5293 - val_loss: 0.4882\n",
      "Epoch 45/50\n",
      " - 0s - loss: 0.5279 - val_loss: 0.4866\n",
      "Epoch 46/50\n",
      " - 0s - loss: 0.5266 - val_loss: 0.4872\n",
      "Epoch 47/50\n",
      " - 0s - loss: 0.5252 - val_loss: 0.4857\n",
      "Epoch 48/50\n",
      " - 0s - loss: 0.5242 - val_loss: 0.4841\n",
      "Epoch 49/50\n",
      " - 0s - loss: 0.5224 - val_loss: 0.4836\n",
      "Epoch 50/50\n",
      " - 0s - loss: 0.5221 - val_loss: 0.4832\n"
     ]
    }
   ],
   "source": [
    "model = regression_model()\n",
    "history_callback =model.fit(X_train, y_train, validation_data=(X_test, y_test), epochs=50, verbose=2)\n",
    "val_loss_history = history_callback.history[\"val_loss\"]\n",
    "loss_history = history_callback.history[\"loss\"]"
   ]
  },
  {
   "cell_type": "code",
   "execution_count": 125,
   "metadata": {},
   "outputs": [
    {
     "data": {
      "text/plain": [
       "0.7979596002745066"
      ]
     },
     "execution_count": 125,
     "metadata": {},
     "output_type": "execute_result"
    }
   ],
   "source": [
    "statistics.mean(loss_history)"
   ]
  },
  {
   "cell_type": "code",
   "execution_count": 126,
   "metadata": {},
   "outputs": [
    {
     "data": {
      "text/plain": [
       "0.497498034274501"
      ]
     },
     "execution_count": 126,
     "metadata": {},
     "output_type": "execute_result"
    }
   ],
   "source": [
    "statistics.stdev(loss_history)"
   ]
  },
  {
   "cell_type": "markdown",
   "metadata": {},
   "source": [
    "#### We get small values now as you see above"
   ]
  },
  {
   "cell_type": "markdown",
   "metadata": {},
   "source": [
    "#### C. Increate the number of epochs (5 marks)\n",
    "\n",
    "Repeat Part B but use 100 epochs this time for training."
   ]
  },
  {
   "cell_type": "code",
   "execution_count": 127,
   "metadata": {},
   "outputs": [
    {
     "name": "stdout",
     "output_type": "stream",
     "text": [
      "Train on 721 samples, validate on 309 samples\n",
      "Epoch 1/100\n",
      " - 1s - loss: 1.4548 - val_loss: 1.1586\n",
      "Epoch 2/100\n",
      " - 0s - loss: 1.2162 - val_loss: 0.9861\n",
      "Epoch 3/100\n",
      " - 0s - loss: 1.0595 - val_loss: 0.8675\n",
      "Epoch 4/100\n",
      " - 0s - loss: 0.9482 - val_loss: 0.7900\n",
      "Epoch 5/100\n",
      " - 0s - loss: 0.8706 - val_loss: 0.7335\n",
      "Epoch 6/100\n",
      " - 0s - loss: 0.8133 - val_loss: 0.6917\n",
      "Epoch 7/100\n",
      " - 0s - loss: 0.7696 - val_loss: 0.6627\n",
      "Epoch 8/100\n",
      " - 0s - loss: 0.7378 - val_loss: 0.6418\n",
      "Epoch 9/100\n",
      " - 0s - loss: 0.7140 - val_loss: 0.6261\n",
      "Epoch 10/100\n",
      " - 0s - loss: 0.6953 - val_loss: 0.6142\n",
      "Epoch 11/100\n",
      " - 0s - loss: 0.6807 - val_loss: 0.6052\n",
      "Epoch 12/100\n",
      " - 0s - loss: 0.6696 - val_loss: 0.5968\n",
      "Epoch 13/100\n",
      " - 0s - loss: 0.6589 - val_loss: 0.5907\n",
      "Epoch 14/100\n",
      " - 0s - loss: 0.6500 - val_loss: 0.5853\n",
      "Epoch 15/100\n",
      " - 0s - loss: 0.6426 - val_loss: 0.5813\n",
      "Epoch 16/100\n",
      " - 0s - loss: 0.6370 - val_loss: 0.5786\n",
      "Epoch 17/100\n",
      " - 0s - loss: 0.6296 - val_loss: 0.5724\n",
      "Epoch 18/100\n",
      " - 0s - loss: 0.6245 - val_loss: 0.5698\n",
      "Epoch 19/100\n",
      " - 0s - loss: 0.6193 - val_loss: 0.5669\n",
      "Epoch 20/100\n",
      " - 0s - loss: 0.6151 - val_loss: 0.5655\n",
      "Epoch 21/100\n",
      " - 0s - loss: 0.6107 - val_loss: 0.5614\n",
      "Epoch 22/100\n",
      " - 0s - loss: 0.6068 - val_loss: 0.5586\n",
      "Epoch 23/100\n",
      " - 0s - loss: 0.6015 - val_loss: 0.5561\n",
      "Epoch 24/100\n",
      " - 0s - loss: 0.5973 - val_loss: 0.5524\n",
      "Epoch 25/100\n",
      " - 0s - loss: 0.5934 - val_loss: 0.5513\n",
      "Epoch 26/100\n",
      " - 0s - loss: 0.5898 - val_loss: 0.5477\n",
      "Epoch 27/100\n",
      " - 0s - loss: 0.5867 - val_loss: 0.5468\n",
      "Epoch 28/100\n",
      " - 0s - loss: 0.5835 - val_loss: 0.5440\n",
      "Epoch 29/100\n",
      " - 0s - loss: 0.5810 - val_loss: 0.5426\n",
      "Epoch 30/100\n",
      " - 0s - loss: 0.5789 - val_loss: 0.5399\n",
      "Epoch 31/100\n",
      " - 0s - loss: 0.5766 - val_loss: 0.5370\n",
      "Epoch 32/100\n",
      " - 0s - loss: 0.5743 - val_loss: 0.5359\n",
      "Epoch 33/100\n",
      " - 0s - loss: 0.5717 - val_loss: 0.5331\n",
      "Epoch 34/100\n",
      " - 0s - loss: 0.5702 - val_loss: 0.5309\n",
      "Epoch 35/100\n",
      " - 0s - loss: 0.5671 - val_loss: 0.5291\n",
      "Epoch 36/100\n",
      " - 0s - loss: 0.5645 - val_loss: 0.5267\n",
      "Epoch 37/100\n",
      " - 0s - loss: 0.5627 - val_loss: 0.5250\n",
      "Epoch 38/100\n",
      " - 0s - loss: 0.5604 - val_loss: 0.5227\n",
      "Epoch 39/100\n",
      " - 0s - loss: 0.5585 - val_loss: 0.5207\n",
      "Epoch 40/100\n",
      " - 0s - loss: 0.5558 - val_loss: 0.5187\n",
      "Epoch 41/100\n",
      " - 0s - loss: 0.5537 - val_loss: 0.5182\n",
      "Epoch 42/100\n",
      " - 0s - loss: 0.5522 - val_loss: 0.5167\n",
      "Epoch 43/100\n",
      " - 0s - loss: 0.5512 - val_loss: 0.5155\n",
      "Epoch 44/100\n",
      " - 0s - loss: 0.5482 - val_loss: 0.5137\n",
      "Epoch 45/100\n",
      " - 0s - loss: 0.5469 - val_loss: 0.5116\n",
      "Epoch 46/100\n",
      " - 0s - loss: 0.5467 - val_loss: 0.5115\n",
      "Epoch 47/100\n",
      " - 0s - loss: 0.5441 - val_loss: 0.5100\n",
      "Epoch 48/100\n",
      " - 0s - loss: 0.5420 - val_loss: 0.5070\n",
      "Epoch 49/100\n",
      " - 0s - loss: 0.5419 - val_loss: 0.5055\n",
      "Epoch 50/100\n",
      " - 0s - loss: 0.5403 - val_loss: 0.5073\n",
      "Epoch 51/100\n",
      " - 0s - loss: 0.5394 - val_loss: 0.5057\n",
      "Epoch 52/100\n",
      " - 0s - loss: 0.5387 - val_loss: 0.5033\n",
      "Epoch 53/100\n",
      " - 0s - loss: 0.5370 - val_loss: 0.5018\n",
      "Epoch 54/100\n",
      " - 0s - loss: 0.5369 - val_loss: 0.5017\n",
      "Epoch 55/100\n",
      " - 0s - loss: 0.5352 - val_loss: 0.5003\n",
      "Epoch 56/100\n",
      " - 0s - loss: 0.5342 - val_loss: 0.4989\n",
      "Epoch 57/100\n",
      " - 0s - loss: 0.5331 - val_loss: 0.4988\n",
      "Epoch 58/100\n",
      " - 0s - loss: 0.5324 - val_loss: 0.4963\n",
      "Epoch 59/100\n",
      " - 0s - loss: 0.5312 - val_loss: 0.4955\n",
      "Epoch 60/100\n",
      " - 0s - loss: 0.5303 - val_loss: 0.4948\n",
      "Epoch 61/100\n",
      " - 0s - loss: 0.5301 - val_loss: 0.4947\n",
      "Epoch 62/100\n",
      " - 0s - loss: 0.5301 - val_loss: 0.4927\n",
      "Epoch 63/100\n",
      " - 0s - loss: 0.5289 - val_loss: 0.4922\n",
      "Epoch 64/100\n",
      " - 0s - loss: 0.5279 - val_loss: 0.4922\n",
      "Epoch 65/100\n",
      " - 0s - loss: 0.5271 - val_loss: 0.4895\n",
      "Epoch 66/100\n",
      " - 0s - loss: 0.5263 - val_loss: 0.4897\n",
      "Epoch 67/100\n",
      " - 0s - loss: 0.5259 - val_loss: 0.4881\n",
      "Epoch 68/100\n",
      " - 0s - loss: 0.5252 - val_loss: 0.4904\n",
      "Epoch 69/100\n",
      " - 0s - loss: 0.5261 - val_loss: 0.4879\n",
      "Epoch 70/100\n",
      " - 0s - loss: 0.5241 - val_loss: 0.4894\n",
      "Epoch 71/100\n",
      " - 0s - loss: 0.5241 - val_loss: 0.4878\n",
      "Epoch 72/100\n",
      " - 0s - loss: 0.5226 - val_loss: 0.4870\n",
      "Epoch 73/100\n",
      " - 0s - loss: 0.5233 - val_loss: 0.4857\n",
      "Epoch 74/100\n",
      " - 0s - loss: 0.5220 - val_loss: 0.4863\n",
      "Epoch 75/100\n",
      " - 0s - loss: 0.5214 - val_loss: 0.4861\n",
      "Epoch 76/100\n",
      " - 0s - loss: 0.5205 - val_loss: 0.4858\n",
      "Epoch 77/100\n",
      " - 0s - loss: 0.5210 - val_loss: 0.4848\n",
      "Epoch 78/100\n",
      " - 0s - loss: 0.5208 - val_loss: 0.4846\n",
      "Epoch 79/100\n",
      " - 0s - loss: 0.5191 - val_loss: 0.4846\n",
      "Epoch 80/100\n",
      " - 0s - loss: 0.5183 - val_loss: 0.4848\n",
      "Epoch 81/100\n",
      " - 0s - loss: 0.5183 - val_loss: 0.4837\n",
      "Epoch 82/100\n",
      " - 0s - loss: 0.5179 - val_loss: 0.4823\n",
      "Epoch 83/100\n",
      " - 0s - loss: 0.5181 - val_loss: 0.4816\n",
      "Epoch 84/100\n",
      " - 0s - loss: 0.5169 - val_loss: 0.4823\n",
      "Epoch 85/100\n",
      " - 0s - loss: 0.5167 - val_loss: 0.4807\n",
      "Epoch 86/100\n",
      " - 0s - loss: 0.5163 - val_loss: 0.4807\n",
      "Epoch 87/100\n",
      " - 0s - loss: 0.5150 - val_loss: 0.4794\n",
      "Epoch 88/100\n",
      " - 0s - loss: 0.5155 - val_loss: 0.4780\n",
      "Epoch 89/100\n",
      " - 0s - loss: 0.5152 - val_loss: 0.4785\n",
      "Epoch 90/100\n",
      " - 0s - loss: 0.5142 - val_loss: 0.4784\n",
      "Epoch 91/100\n",
      " - 0s - loss: 0.5139 - val_loss: 0.4768\n",
      "Epoch 92/100\n",
      " - 0s - loss: 0.5135 - val_loss: 0.4764\n",
      "Epoch 93/100\n",
      " - 0s - loss: 0.5130 - val_loss: 0.4758\n",
      "Epoch 94/100\n",
      " - 0s - loss: 0.5118 - val_loss: 0.4759\n",
      "Epoch 95/100\n",
      " - 0s - loss: 0.5112 - val_loss: 0.4758\n",
      "Epoch 96/100\n",
      " - 0s - loss: 0.5112 - val_loss: 0.4756\n",
      "Epoch 97/100\n",
      " - 0s - loss: 0.5109 - val_loss: 0.4756\n",
      "Epoch 98/100\n",
      " - 0s - loss: 0.5102 - val_loss: 0.4746\n",
      "Epoch 99/100\n",
      " - 0s - loss: 0.5099 - val_loss: 0.4742\n",
      "Epoch 100/100\n",
      " - 0s - loss: 0.5101 - val_loss: 0.4728\n"
     ]
    }
   ],
   "source": [
    "model = regression_model()\n",
    "history_callback =model.fit(X_train, y_train, validation_data=(X_test, y_test), epochs=100, verbose=2)\n",
    "val_loss_history = history_callback.history[\"val_loss\"]\n",
    "loss_history = history_callback.history[\"loss\"]"
   ]
  },
  {
   "cell_type": "code",
   "execution_count": 128,
   "metadata": {},
   "outputs": [
    {
     "data": {
      "text/plain": [
       "0.5887831551805862"
      ]
     },
     "execution_count": 128,
     "metadata": {},
     "output_type": "execute_result"
    }
   ],
   "source": [
    "statistics.mean(loss_history)"
   ]
  },
  {
   "cell_type": "code",
   "execution_count": 129,
   "metadata": {},
   "outputs": [
    {
     "data": {
      "text/plain": [
       "0.14174385877991605"
      ]
     },
     "execution_count": 129,
     "metadata": {},
     "output_type": "execute_result"
    }
   ],
   "source": [
    "statistics.stdev(loss_history)"
   ]
  },
  {
   "cell_type": "markdown",
   "metadata": {},
   "source": [
    "#### How does the mean of the mean squared errors compare to that from Step B? its smaller"
   ]
  },
  {
   "cell_type": "markdown",
   "metadata": {},
   "source": [
    "#### D. Increase the number of hidden layers (5 marks)\n",
    "\n",
    "Repeat part B but use a neural network with the following instead:\n",
    "\n",
    "- Three hidden layers, each of 10 nodes and ReLU activation function.\n",
    "\n",
    "How does the mean of the mean squared errors compare to that from Step B?"
   ]
  },
  {
   "cell_type": "code",
   "execution_count": 130,
   "metadata": {},
   "outputs": [],
   "source": [
    "# define regression model\n",
    "def regression_model():\n",
    "    # create model\n",
    "    model = Sequential()\n",
    "    model.add(Dense(10, activation='relu', input_shape=(n_cols,)))\n",
    "    model.add(Dense(10, activation='relu', input_shape=(n_cols,)))\n",
    "    model.add(Dense(10, activation='relu', input_shape=(n_cols,)))\n",
    "    model.add(Dense(1))\n",
    "    \n",
    "    # compile model\n",
    "    model.compile(optimizer='adam', loss='mean_squared_error')\n",
    "    return model"
   ]
  },
  {
   "cell_type": "code",
   "execution_count": 131,
   "metadata": {},
   "outputs": [
    {
     "name": "stdout",
     "output_type": "stream",
     "text": [
      "Train on 721 samples, validate on 309 samples\n",
      "Epoch 1/50\n",
      " - 1s - loss: 1.0543 - val_loss: 0.8494\n",
      "Epoch 2/50\n",
      " - 0s - loss: 0.8930 - val_loss: 0.7538\n",
      "Epoch 3/50\n",
      " - 0s - loss: 0.8213 - val_loss: 0.6885\n",
      "Epoch 4/50\n",
      " - 0s - loss: 0.7629 - val_loss: 0.6364\n",
      "Epoch 5/50\n",
      " - 0s - loss: 0.7110 - val_loss: 0.5930\n",
      "Epoch 6/50\n",
      " - 0s - loss: 0.6672 - val_loss: 0.5626\n",
      "Epoch 7/50\n",
      " - 0s - loss: 0.6347 - val_loss: 0.5392\n",
      "Epoch 8/50\n",
      " - 0s - loss: 0.6148 - val_loss: 0.5294\n",
      "Epoch 9/50\n",
      " - 0s - loss: 0.6028 - val_loss: 0.5264\n",
      "Epoch 10/50\n",
      " - 0s - loss: 0.5914 - val_loss: 0.5195\n",
      "Epoch 11/50\n",
      " - 0s - loss: 0.5836 - val_loss: 0.5147\n",
      "Epoch 12/50\n",
      " - 0s - loss: 0.5748 - val_loss: 0.5111\n",
      "Epoch 13/50\n",
      " - 0s - loss: 0.5674 - val_loss: 0.5087\n",
      "Epoch 14/50\n",
      " - 0s - loss: 0.5617 - val_loss: 0.5058\n",
      "Epoch 15/50\n",
      " - 0s - loss: 0.5555 - val_loss: 0.5028\n",
      "Epoch 16/50\n",
      " - 0s - loss: 0.5512 - val_loss: 0.5013\n",
      "Epoch 17/50\n",
      " - 0s - loss: 0.5454 - val_loss: 0.4997\n",
      "Epoch 18/50\n",
      " - 0s - loss: 0.5407 - val_loss: 0.4976\n",
      "Epoch 19/50\n",
      " - 0s - loss: 0.5372 - val_loss: 0.4966\n",
      "Epoch 20/50\n",
      " - 0s - loss: 0.5329 - val_loss: 0.4946\n",
      "Epoch 21/50\n",
      " - 0s - loss: 0.5298 - val_loss: 0.4931\n",
      "Epoch 22/50\n",
      " - 0s - loss: 0.5256 - val_loss: 0.4941\n",
      "Epoch 23/50\n",
      " - 0s - loss: 0.5221 - val_loss: 0.4916\n",
      "Epoch 24/50\n",
      " - 0s - loss: 0.5191 - val_loss: 0.4902\n",
      "Epoch 25/50\n",
      " - 0s - loss: 0.5157 - val_loss: 0.4889\n",
      "Epoch 26/50\n",
      " - 0s - loss: 0.5123 - val_loss: 0.4878\n",
      "Epoch 27/50\n",
      " - 0s - loss: 0.5106 - val_loss: 0.4847\n",
      "Epoch 28/50\n",
      " - 0s - loss: 0.5059 - val_loss: 0.4843\n",
      "Epoch 29/50\n",
      " - 0s - loss: 0.5029 - val_loss: 0.4850\n",
      "Epoch 30/50\n",
      " - 0s - loss: 0.5016 - val_loss: 0.4868\n",
      "Epoch 31/50\n",
      " - 0s - loss: 0.4986 - val_loss: 0.4811\n",
      "Epoch 32/50\n",
      " - 0s - loss: 0.4945 - val_loss: 0.4830\n",
      "Epoch 33/50\n",
      " - 0s - loss: 0.4937 - val_loss: 0.4823\n",
      "Epoch 34/50\n",
      " - 0s - loss: 0.4902 - val_loss: 0.4815\n",
      "Epoch 35/50\n",
      " - 0s - loss: 0.4897 - val_loss: 0.4803\n",
      "Epoch 36/50\n",
      " - 0s - loss: 0.4864 - val_loss: 0.4833\n",
      "Epoch 37/50\n",
      " - 0s - loss: 0.4842 - val_loss: 0.4803\n",
      "Epoch 38/50\n",
      " - 0s - loss: 0.4830 - val_loss: 0.4813\n",
      "Epoch 39/50\n",
      " - 0s - loss: 0.4804 - val_loss: 0.4824\n",
      "Epoch 40/50\n",
      " - 0s - loss: 0.4786 - val_loss: 0.4816\n",
      "Epoch 41/50\n",
      " - 0s - loss: 0.4777 - val_loss: 0.4818\n",
      "Epoch 42/50\n",
      " - 0s - loss: 0.4754 - val_loss: 0.4824\n",
      "Epoch 43/50\n",
      " - 0s - loss: 0.4733 - val_loss: 0.4780\n",
      "Epoch 44/50\n",
      " - 0s - loss: 0.4723 - val_loss: 0.4802\n",
      "Epoch 45/50\n",
      " - 0s - loss: 0.4703 - val_loss: 0.4809\n",
      "Epoch 46/50\n",
      " - 0s - loss: 0.4684 - val_loss: 0.4780\n",
      "Epoch 47/50\n",
      " - 0s - loss: 0.4668 - val_loss: 0.4783\n",
      "Epoch 48/50\n",
      " - 0s - loss: 0.4654 - val_loss: 0.4786\n",
      "Epoch 49/50\n",
      " - 0s - loss: 0.4640 - val_loss: 0.4751\n",
      "Epoch 50/50\n",
      " - 0s - loss: 0.4627 - val_loss: 0.4765\n"
     ]
    }
   ],
   "source": [
    "model = regression_model()\n",
    "history_callback =model.fit(X_train, y_train, validation_data=(X_test, y_test), epochs=50, verbose=2)\n",
    "val_loss_history = history_callback.history[\"val_loss\"]\n",
    "loss_history = history_callback.history[\"loss\"]"
   ]
  },
  {
   "cell_type": "code",
   "execution_count": 132,
   "metadata": {},
   "outputs": [
    {
     "data": {
      "text/plain": [
       "0.5524983606143401"
      ]
     },
     "execution_count": 132,
     "metadata": {},
     "output_type": "execute_result"
    }
   ],
   "source": [
    "statistics.mean(loss_history)"
   ]
  },
  {
   "cell_type": "code",
   "execution_count": 133,
   "metadata": {},
   "outputs": [
    {
     "data": {
      "text/plain": [
       "0.11658656287789697"
      ]
     },
     "execution_count": 133,
     "metadata": {},
     "output_type": "execute_result"
    }
   ],
   "source": [
    "statistics.stdev(loss_history)"
   ]
  },
  {
   "cell_type": "markdown",
   "metadata": {},
   "source": [
    "#### The mean is smaller than step B"
   ]
  },
  {
   "cell_type": "code",
   "execution_count": null,
   "metadata": {},
   "outputs": [],
   "source": []
  }
 ],
 "metadata": {
  "kernelspec": {
   "display_name": "Python",
   "language": "python",
   "name": "conda-env-python-py"
  },
  "language_info": {
   "codemirror_mode": {
    "name": "ipython",
    "version": 3
   },
   "file_extension": ".py",
   "mimetype": "text/x-python",
   "name": "python",
   "nbconvert_exporter": "python",
   "pygments_lexer": "ipython3",
   "version": "3.6.7"
  }
 },
 "nbformat": 4,
 "nbformat_minor": 4
}
